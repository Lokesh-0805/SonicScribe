{
 "cells": [
  {
   "cell_type": "code",
   "execution_count": 1,
   "id": "919959de",
   "metadata": {},
   "outputs": [
    {
     "data": {
      "text/plain": [
       "True"
      ]
     },
     "execution_count": 1,
     "metadata": {},
     "output_type": "execute_result"
    }
   ],
   "source": [
    "import os\n",
    "from dotenv import load_dotenv\n",
    "load_dotenv()\n"
   ]
  },
  {
   "cell_type": "markdown",
   "id": "2f2e5792",
   "metadata": {},
   "source": []
  },
  {
   "cell_type": "code",
   "execution_count": 3,
   "id": "769fdfb6",
   "metadata": {},
   "outputs": [],
   "source": [
    "os.environ['OPENAI_API_KEY']=os.getenv(\"OPENAI_API_KEY\")\n",
    "## Langsmith Tracking\n",
    "os.environ[\"LANGCHAIN_API_KEY\"]=os.getenv(\"LANGCHAIN_API_KEY\")\n",
    "os.environ[\"LANGCHAIN_TRACING_V2\"]=\"true\"\n",
    "os.environ[\"LANGCHAIN_PROJECT\"]=os.getenv(\"LANGCHAIN_PROJECT\")"
   ]
  },
  {
   "cell_type": "code",
   "execution_count": 4,
   "id": "97731a7f",
   "metadata": {},
   "outputs": [
    {
     "name": "stderr",
     "output_type": "stream",
     "text": [
      "/Users/lokeshchahar/Desktop/cyfuture/Project /env/lib/python3.12/site-packages/whisper/transcribe.py:132: UserWarning: FP16 is not supported on CPU; using FP32 instead\n",
      "  warnings.warn(\"FP16 is not supported on CPU; using FP32 instead\")\n"
     ]
    },
    {
     "name": "stdout",
     "output_type": "stream",
     "text": [
      " Dr. My name is Aman Sharma and my age is 38 years. I often feel very tired and my skin has turned yellowish. There is swelling in my stomach and sometimes in my legs too. Even small injuries cause bleeding or bruises easily. At times I also feel confused.\n"
     ]
    }
   ],
   "source": [
    "import whisper\n",
    "\n",
    "model = whisper.load_model(\"base\")\n",
    "result = model.transcribe(\"audio/patient5.mp3\")\n",
    "print(result[\"text\"])"
   ]
  },
  {
   "cell_type": "code",
   "execution_count": 5,
   "id": "f5f9a38e",
   "metadata": {},
   "outputs": [
    {
     "name": "stderr",
     "output_type": "stream",
     "text": [
      "/Users/lokeshchahar/Desktop/cyfuture/Project /env/lib/python3.12/site-packages/whisper/transcribe.py:132: UserWarning: FP16 is not supported on CPU; using FP32 instead\n",
      "  warnings.warn(\"FP16 is not supported on CPU; using FP32 instead\")\n"
     ]
    },
    {
     "name": "stdout",
     "output_type": "stream",
     "text": [
      " Dr. My name is Aman Sharma and my age is 38 years. I often feel very tired and my skin has turned yellowish. There is swelling in my stomach and sometimes in my legs too. Even small injuries cause bleeding or bruises easily. At times I also feel confused.\n"
     ]
    }
   ],
   "source": [
    "\n",
    "model = whisper.load_model(\"base\")\n",
    "result = model.transcribe(\"audio/patient5.mp3\", task=\"translate\")\n",
    "print(result[\"text\"])  # This is the transcription in English\n"
   ]
  },
  {
   "cell_type": "markdown",
   "id": "063ae822",
   "metadata": {},
   "source": []
  },
  {
   "cell_type": "code",
   "execution_count": 7,
   "id": "fdb7b1cf",
   "metadata": {},
   "outputs": [
    {
     "name": "stdout",
     "output_type": "stream",
     "text": [
      "client=<openai.resources.chat.completions.completions.Completions object at 0x12fcec890> async_client=<openai.resources.chat.completions.completions.AsyncCompletions object at 0x13c682db0> root_client=<openai.OpenAI object at 0x13c2683b0> root_async_client=<openai.AsyncOpenAI object at 0x12fcec650> model_name='gpt-4o' model_kwargs={} openai_api_key=SecretStr('**********')\n"
     ]
    }
   ],
   "source": [
    "from langchain_openai import ChatOpenAI\n",
    "llm=ChatOpenAI(model=\"gpt-4o\")\n",
    "print(llm)"
   ]
  },
  {
   "cell_type": "code",
   "execution_count": 52,
   "id": "c89eee8e",
   "metadata": {},
   "outputs": [],
   "source": [
    "### Chatprompt Template\n",
    "from langchain_core.prompts import ChatPromptTemplate\n",
    "\n",
    "prompt=ChatPromptTemplate.from_messages(\n",
    "    [\n",
    "        (\"system\",\"Extract the following structured details from the given clinical note: Name , Age/Gender,Medical History,Symptoms,Notes (Summarize any additional context or observations),Risk Prediction (based on symptoms and medical history),Possible Disease(You have to predict possible disease) , Recommendation (next steps for care or treatment , tell wheather the person should admitted to hospital or not)\"),\n",
    "        (\"user\",\"{input}\")\n",
    "    ]\n",
    "\n",
    ")"
   ]
  },
  {
   "cell_type": "code",
   "execution_count": 56,
   "id": "f19452b7",
   "metadata": {},
   "outputs": [],
   "source": [
    "from langchain_core.output_parsers import StrOutputParser\n",
    "output_parser=StrOutputParser()\n",
    "chain=prompt|llm|output_parser"
   ]
  },
  {
   "cell_type": "code",
   "execution_count": 57,
   "id": "82443014",
   "metadata": {},
   "outputs": [
    {
     "name": "stdout",
     "output_type": "stream",
     "text": [
      "Name: Aman Sharma  \n",
      "Age/Gender: 38 years / Male  \n",
      "Medical History: Not provided  \n",
      "Symptoms:  \n",
      "- Frequent fatigue  \n",
      "- Yellowish skin  \n",
      "- Swelling in the stomach  \n",
      "- Swelling in the legs  \n",
      "- Easy bleeding or bruising from small injuries  \n",
      "- Occasional confusion  \n",
      "\n",
      "Notes: Aman is experiencing a constellation of symptoms that could indicate a serious underlying condition, likely affecting the liver. His symptoms are consistent and have potential systemic implications.\n",
      "\n",
      "Risk Prediction: Given the symptoms of jaundice (yellowish skin), fatigue, swelling (which could indicate fluid retention), easy bruising (potential coagulopathy), and confusion (potential hepatic encephalopathy), Aman could be at risk for liver disease or dysfunction, possibly cirrhosis or liver failure.\n",
      "\n",
      "Possible Disease: The symptoms and context strongly suggest a potential for liver disease, such as cirrhosis or acute liver failure.\n",
      "\n",
      "Recommendation: Aman should be evaluated immediately by a healthcare provider for liver function tests and possibly imaging studies. Hospital admission may be necessary to stabilize his condition and to conduct a thorough evaluation and management.\n"
     ]
    }
   ],
   "source": [
    "response=chain.invoke({\"input\":result[\"text\"]})\n",
    "print(response)"
   ]
  },
  {
   "cell_type": "code",
   "execution_count": null,
   "id": "789cf09a",
   "metadata": {},
   "outputs": [],
   "source": []
  },
  {
   "cell_type": "code",
   "execution_count": null,
   "id": "719b20c5",
   "metadata": {},
   "outputs": [],
   "source": []
  },
  {
   "cell_type": "code",
   "execution_count": null,
   "id": "748bd23d",
   "metadata": {},
   "outputs": [],
   "source": []
  },
  {
   "cell_type": "code",
   "execution_count": null,
   "id": "9bf5230b",
   "metadata": {},
   "outputs": [],
   "source": []
  }
 ],
 "metadata": {
  "kernelspec": {
   "display_name": "Python (env)",
   "language": "python",
   "name": "env"
  },
  "language_info": {
   "codemirror_mode": {
    "name": "ipython",
    "version": 3
   },
   "file_extension": ".py",
   "mimetype": "text/x-python",
   "name": "python",
   "nbconvert_exporter": "python",
   "pygments_lexer": "ipython3",
   "version": "3.12.2"
  }
 },
 "nbformat": 4,
 "nbformat_minor": 5
}
