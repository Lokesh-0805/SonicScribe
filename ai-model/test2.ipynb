{
 "cells": [
  {
   "cell_type": "code",
   "execution_count": 5,
   "id": "bf0e86a4",
   "metadata": {},
   "outputs": [
    {
     "data": {
      "text/plain": [
       "True"
      ]
     },
     "execution_count": 5,
     "metadata": {},
     "output_type": "execute_result"
    }
   ],
   "source": [
    "import os\n",
    "from dotenv import load_dotenv\n",
    "load_dotenv()\n"
   ]
  },
  {
   "cell_type": "code",
   "execution_count": 6,
   "id": "7d2f783e",
   "metadata": {},
   "outputs": [],
   "source": [
    "os.environ['OPENAI_API_KEY']=os.getenv(\"OPENAI_API_KEY\")\n",
    "## Langsmith Tracking\n",
    "os.environ[\"LANGCHAIN_API_KEY\"]=os.getenv(\"LANGCHAIN_API_KEY\")\n",
    "os.environ[\"LANGCHAIN_TRACING_V2\"]=\"true\"\n",
    "os.environ[\"LANGCHAIN_PROJECT\"]=os.getenv(\"LANGCHAIN_PROJECT\")"
   ]
  },
  {
   "cell_type": "code",
   "execution_count": 7,
   "id": "fbdfcb91",
   "metadata": {},
   "outputs": [
    {
     "name": "stdout",
     "output_type": "stream",
     "text": [
      "client=<openai.resources.chat.completions.completions.Completions object at 0x13b2d4170> async_client=<openai.resources.chat.completions.completions.AsyncCompletions object at 0x13c4bb5c0> root_client=<openai.OpenAI object at 0x13b39e810> root_async_client=<openai.AsyncOpenAI object at 0x13bbe0ce0> model_name='gpt-4o' model_kwargs={} openai_api_key=SecretStr('**********')\n"
     ]
    }
   ],
   "source": [
    "from langchain_openai import ChatOpenAI\n",
    "llm=ChatOpenAI(model=\"gpt-4o\")\n",
    "print(llm)"
   ]
  },
  {
   "cell_type": "code",
   "execution_count": 8,
   "id": "14832efc",
   "metadata": {},
   "outputs": [],
   "source": [
    "### Chatprompt Template\n",
    "from langchain_core.prompts import ChatPromptTemplate\n",
    "\n",
    "prompt=ChatPromptTemplate.from_messages(\n",
    "    [\n",
    "        (\"system\",'''You are a professional healthcare assistant. The user will enter their symptoms. \n",
    "                    Based on the symptoms, provide:\n",
    "                    1. Probable conditions (up to 3).\n",
    "                    2. Triage level: Emergency / Urgent / Non-Urgent.\n",
    "                    3. Specialist to consult.\n",
    "                    Always advise consulting a real doctor.'''),\n",
    "        (\"user\",\"{input}\")\n",
    "    ]\n",
    "\n",
    ")"
   ]
  },
  {
   "cell_type": "code",
   "execution_count": 9,
   "id": "d2c53295",
   "metadata": {},
   "outputs": [],
   "source": [
    "from langchain_core.output_parsers import StrOutputParser\n",
    "output_parser=StrOutputParser()\n",
    "chain=prompt|llm|output_parser"
   ]
  },
  {
   "cell_type": "code",
   "execution_count": 10,
   "id": "ab8a52b2",
   "metadata": {},
   "outputs": [
    {
     "name": "stdout",
     "output_type": "stream",
     "text": [
      "Based on your symptoms, here are some possible conditions:\n",
      "\n",
      "1. Flu (Influenza)\n",
      "2. Common Cold\n",
      "3. Strep Throat\n",
      "\n",
      "**Triage Level:** Non-Urgent, unless symptoms worsen or are accompanied by difficulty breathing, chest pain, or severe headache.\n",
      "\n",
      "**Specialist to Consult:** Primary Care Physician or an Ear, Nose, and Throat (ENT) Specialist if symptoms persist or worsen.\n",
      "\n",
      "Always consult a real doctor for a precise diagnosis and treatment advice.\n"
     ]
    }
   ],
   "source": [
    "response=chain.invoke({\"input\":'I have a fever, sore throat, and muscle pain.'})\n",
    "print(response)"
   ]
  },
  {
   "cell_type": "code",
   "execution_count": 11,
   "id": "5b78aa7b",
   "metadata": {},
   "outputs": [
    {
     "name": "stderr",
     "output_type": "stream",
     "text": [
      "/Users/lokeshchahar/Desktop/cyfuture/Project /venv/lib/python3.12/site-packages/whisper/transcribe.py:132: UserWarning: FP16 is not supported on CPU; using FP32 instead\n",
      "  warnings.warn(\"FP16 is not supported on CPU; using FP32 instead\")\n"
     ]
    },
    {
     "name": "stdout",
     "output_type": "stream",
     "text": [
      " Dr. My name is Aman Sharma and my age is 38 years. I often feel very tired and my skin has turned yellowish. There is swelling in my stomach and sometimes in my legs too. Even small injuries cause bleeding or bruises easily. At times I also feel confused.\n"
     ]
    }
   ],
   "source": [
    "import whisper\n",
    "\n",
    "model = whisper.load_model(\"base\")\n",
    "result = model.transcribe(\"audio/patient5.mp3\")\n",
    "print(result[\"text\"])"
   ]
  },
  {
   "cell_type": "code",
   "execution_count": 12,
   "id": "5d24926e",
   "metadata": {},
   "outputs": [
    {
     "name": "stdout",
     "output_type": "stream",
     "text": [
      "Based on your symptoms, here are some possibilities:\n",
      "\n",
      "1. **Probable Conditions:**\n",
      "   - **Liver Disease (such as Cirrhosis or Hepatitis):** Symptoms like yellowish skin (jaundice), swelling in the abdomen, and easy bruising suggest liver issues.\n",
      "   - **Hemolytic Anemia:** Can cause fatigue, yellowing of the skin, and confusion.\n",
      "   - **Coagulation Disorders:** Could explain easy bleeding and bruising.\n",
      "\n",
      "2. **Triage Level:** Urgent. These symptoms could indicate a serious underlying issue that should be addressed soon to avoid complications.\n",
      "\n",
      "3. **Specialist to Consult:** Hepatologist (liver specialist) or a Hematologist (blood specialist).\n",
      "\n",
      "It's important to consult a real doctor as soon as possible to determine the exact cause of your symptoms and get appropriate treatment.\n"
     ]
    }
   ],
   "source": [
    "response2=chain.invoke({result[\"text\"]})\n",
    "print(response2)"
   ]
  },
  {
   "cell_type": "code",
   "execution_count": null,
   "id": "1835bdf3",
   "metadata": {},
   "outputs": [],
   "source": []
  },
  {
   "cell_type": "code",
   "execution_count": null,
   "id": "d2c2e95d",
   "metadata": {},
   "outputs": [],
   "source": []
  },
  {
   "cell_type": "code",
   "execution_count": null,
   "id": "4334f25c",
   "metadata": {},
   "outputs": [],
   "source": []
  },
  {
   "cell_type": "code",
   "execution_count": null,
   "id": "54ea0641",
   "metadata": {},
   "outputs": [],
   "source": []
  },
  {
   "cell_type": "code",
   "execution_count": null,
   "id": "c202d32b",
   "metadata": {},
   "outputs": [],
   "source": []
  },
  {
   "cell_type": "code",
   "execution_count": null,
   "id": "1918e908",
   "metadata": {},
   "outputs": [],
   "source": []
  },
  {
   "cell_type": "code",
   "execution_count": null,
   "id": "551e63aa",
   "metadata": {},
   "outputs": [],
   "source": []
  },
  {
   "cell_type": "markdown",
   "id": "cbfeb878",
   "metadata": {},
   "source": []
  },
  {
   "cell_type": "markdown",
   "id": "581ffdc6",
   "metadata": {},
   "source": []
  }
 ],
 "metadata": {
  "kernelspec": {
   "display_name": "venv",
   "language": "python",
   "name": "python3"
  },
  "language_info": {
   "codemirror_mode": {
    "name": "ipython",
    "version": 3
   },
   "file_extension": ".py",
   "mimetype": "text/x-python",
   "name": "python",
   "nbconvert_exporter": "python",
   "pygments_lexer": "ipython3",
   "version": "3.12.2"
  }
 },
 "nbformat": 4,
 "nbformat_minor": 5
}
